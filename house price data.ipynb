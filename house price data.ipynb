{
 "cells": [
  {
   "cell_type": "code",
   "execution_count": 52,
   "metadata": {
    "scrolled": true
   },
   "outputs": [],
   "source": [
    "import pandas as pd #importing pandas into notebook\n",
    "import warnings\n",
    "warnings.filterwarnings('ignore')\n",
    "from sklearn.model_selection import train_test_split\n",
    "from sklearn.ensemble import AdaBoostRegressor\n",
    "from sklearn.cluster import KMeans\n",
    "import matplotlib.pyplot as plt\n",
    "\n"
   ]
  },
  {
   "cell_type": "code",
   "execution_count": 6,
   "metadata": {},
   "outputs": [
    {
     "data": {
      "text/plain": [
       "Index(['Id', 'MSSubClass', 'MSZoning', 'LotFrontage', 'LotArea', 'Street',\n",
       "       'Alley', 'LotShape', 'LandContour', 'Utilities', 'LotConfig',\n",
       "       'LandSlope', 'Neighborhood', 'Condition1', 'Condition2', 'BldgType',\n",
       "       'HouseStyle', 'OverallQual', 'OverallCond', 'YearBuilt', 'YearRemodAdd',\n",
       "       'RoofStyle', 'RoofMatl', 'Exterior1st', 'Exterior2nd', 'MasVnrType',\n",
       "       'MasVnrArea', 'ExterQual', 'ExterCond', 'Foundation', 'BsmtQual',\n",
       "       'BsmtCond', 'BsmtExposure', 'BsmtFinType1', 'BsmtFinSF1',\n",
       "       'BsmtFinType2', 'BsmtFinSF2', 'BsmtUnfSF', 'TotalBsmtSF', 'Heating',\n",
       "       'HeatingQC', 'CentralAir', 'Electrical', '1stFlrSF', '2ndFlrSF',\n",
       "       'LowQualFinSF', 'GrLivArea', 'BsmtFullBath', 'BsmtHalfBath', 'FullBath',\n",
       "       'HalfBath', 'BedroomAbvGr', 'KitchenAbvGr', 'KitchenQual',\n",
       "       'TotRmsAbvGrd', 'Functional', 'Fireplaces', 'FireplaceQu', 'GarageType',\n",
       "       'GarageYrBlt', 'GarageFinish', 'GarageCars', 'GarageArea', 'GarageQual',\n",
       "       'GarageCond', 'PavedDrive', 'WoodDeckSF', 'OpenPorchSF',\n",
       "       'EnclosedPorch', '3SsnPorch', 'ScreenPorch', 'PoolArea', 'PoolQC',\n",
       "       'Fence', 'MiscFeature', 'MiscVal', 'MoSold', 'YrSold', 'SaleType',\n",
       "       'SaleCondition', 'SalePrice'],\n",
       "      dtype='object')"
      ]
     },
     "execution_count": 6,
     "metadata": {},
     "output_type": "execute_result"
    }
   ],
   "source": [
    "house_price_df=pd.read_csv('house_price.csv') #to read the file into the notebook\n",
    "house_price_df.dtypes #data frame datatypes\n",
    "house_price_df.columns #name of columns in the df\n",
    "\n"
   ]
  },
  {
   "cell_type": "code",
   "execution_count": 7,
   "metadata": {},
   "outputs": [
    {
     "data": {
      "text/plain": [
       "dtype('int64')"
      ]
     },
     "execution_count": 7,
     "metadata": {},
     "output_type": "execute_result"
    }
   ],
   "source": [
    "house_price_df['LotArea'].dtype #to check the datatype of a particular column"
   ]
  },
  {
   "cell_type": "code",
   "execution_count": 8,
   "metadata": {},
   "outputs": [
    {
     "data": {
      "text/plain": [
       "RL         1151\n",
       "RM          218\n",
       "FV           65\n",
       "RH           16\n",
       "C (all)      10\n",
       "Name: MSZoning, dtype: int64"
      ]
     },
     "execution_count": 8,
     "metadata": {},
     "output_type": "execute_result"
    }
   ],
   "source": [
    "\n",
    "house_price_df['MSZoning'].value_counts()"
   ]
  },
  {
   "cell_type": "code",
   "execution_count": 9,
   "metadata": {},
   "outputs": [
    {
     "data": {
      "text/plain": [
       "F_onewayResult(statistic=43.84028167245718, pvalue=8.817633866272648e-35)"
      ]
     },
     "execution_count": 9,
     "metadata": {},
     "output_type": "execute_result"
    }
   ],
   "source": [
    "#ANOVA FOR MSZoning and SALEPRICE\n",
    "from scipy.stats import f_oneway\n",
    "RL_list=list(house_price_df[house_price_df['MSZoning']=='RL']['SalePrice'])\n",
    "RM_list=list(house_price_df[house_price_df['MSZoning']=='RM']['SalePrice'])\n",
    "FV_list=list(house_price_df[house_price_df['MSZoning']=='FV']['SalePrice'])\n",
    "RH_list=list(house_price_df[house_price_df['MSZoning']=='RH']['SalePrice'])\n",
    "C_all_list=list(house_price_df[house_price_df['MSZoning']=='C (all)']['SalePrice'])\n",
    "f_oneway(RL_list,RM_list,FV_list,RH_list,C_all_list)\n",
    "\n"
   ]
  },
  {
   "cell_type": "code",
   "execution_count": 10,
   "metadata": {},
   "outputs": [
    {
     "data": {
      "text/plain": [
       "['MSZoning',\n",
       " 'Street',\n",
       " 'Alley',\n",
       " 'LotShape',\n",
       " 'LandContour',\n",
       " 'Utilities',\n",
       " 'LotConfig',\n",
       " 'LandSlope',\n",
       " 'Neighborhood',\n",
       " 'Condition1',\n",
       " 'Condition2',\n",
       " 'BldgType',\n",
       " 'HouseStyle',\n",
       " 'RoofStyle',\n",
       " 'RoofMatl',\n",
       " 'Exterior1st',\n",
       " 'Exterior2nd',\n",
       " 'MasVnrType',\n",
       " 'ExterQual',\n",
       " 'ExterCond',\n",
       " 'Foundation',\n",
       " 'BsmtQual',\n",
       " 'BsmtCond',\n",
       " 'BsmtExposure',\n",
       " 'BsmtFinType1',\n",
       " 'BsmtFinType2',\n",
       " 'Heating',\n",
       " 'HeatingQC',\n",
       " 'CentralAir',\n",
       " 'Electrical',\n",
       " 'KitchenQual',\n",
       " 'Functional',\n",
       " 'FireplaceQu',\n",
       " 'GarageType',\n",
       " 'GarageFinish',\n",
       " 'GarageQual',\n",
       " 'GarageCond',\n",
       " 'PavedDrive',\n",
       " 'PoolQC',\n",
       " 'Fence',\n",
       " 'MiscFeature',\n",
       " 'SaleType',\n",
       " 'SaleCondition']"
      ]
     },
     "execution_count": 10,
     "metadata": {},
     "output_type": "execute_result"
    }
   ],
   "source": [
    "cat_cols=[col for col in house_price_df.columns if house_price_df[col].dtype=='object']\n",
    "cat_cols\n"
   ]
  },
  {
   "cell_type": "code",
   "execution_count": 11,
   "metadata": {},
   "outputs": [
    {
     "data": {
      "text/plain": [
       "8.817633866272648e-35"
      ]
     },
     "execution_count": 11,
     "metadata": {},
     "output_type": "execute_result"
    }
   ],
   "source": [
    "def anova(col):\n",
    "    categories=list(house_price_df[col].value_counts().index)\n",
    "    res=f_oneway(*[house_price_df[house_price_df[col]==category]['SalePrice'] for category in categories])\n",
    "    return res[1]\n",
    "anova('MSZoning')\n",
    "\n",
    "\n",
    "                   "
   ]
  },
  {
   "cell_type": "code",
   "execution_count": 12,
   "metadata": {},
   "outputs": [
    {
     "data": {
      "text/plain": [
       "[8.817633866272648e-35,\n",
       " 0.11704860406782483,\n",
       " 4.899826166771113e-08,\n",
       " 6.447523852011766e-25,\n",
       " 2.7422167521379096e-08,\n",
       " 0.5847167739689381,\n",
       " 3.163167473604189e-06,\n",
       " 0.1413963584114019,\n",
       " 1.558600282771154e-225,\n",
       " 8.904549416138853e-08,\n",
       " 0.043425658360948464,\n",
       " 2.0567364604967015e-10,\n",
       " 3.376776535121222e-25,\n",
       " 3.653523047099125e-17,\n",
       " 7.231444779987188e-08,\n",
       " 2.5860887286376316e-43,\n",
       " 4.8421856706985465e-43,\n",
       " 4.793331178118786e-65,\n",
       " 1.4395510967787893e-204,\n",
       " 5.106680608671862e-07,\n",
       " 5.791895002232233e-91,\n",
       " 9.610615106781709e-186,\n",
       " 5.136900937703027e-09,\n",
       " 1.022670629183227e-42,\n",
       " 1.8077310066862167e-63,\n",
       " 0.019410089690234594,\n",
       " 0.000753472106445497,\n",
       " 2.667062092104357e-67,\n",
       " 1.8095061559267854e-22,\n",
       " 1.6632487814737638e-18,\n",
       " 3.0322127528400614e-192,\n",
       " 0.0004841696801078294,\n",
       " 5.016300447019087e-19,\n",
       " 1.247153670658973e-66,\n",
       " 1.1991165312294262e-93,\n",
       " 1.2408026478015653e-07,\n",
       " 1.3097143055289643e-07,\n",
       " 1.803568890651533e-18,\n",
       " 0.30398528011207915,\n",
       " 0.002312645635631918,\n",
       " 0.10472761568792907,\n",
       " 5.039766889462451e-42,\n",
       " 7.988268404991176e-44]"
      ]
     },
     "execution_count": 12,
     "metadata": {},
     "output_type": "execute_result"
    }
   ],
   "source": [
    "p_values=[anova(col) for col in cat_cols]\n",
    "p_values"
   ]
  },
  {
   "cell_type": "code",
   "execution_count": 13,
   "metadata": {},
   "outputs": [
    {
     "data": {
      "text/html": [
       "<div>\n",
       "<style scoped>\n",
       "    .dataframe tbody tr th:only-of-type {\n",
       "        vertical-align: middle;\n",
       "    }\n",
       "\n",
       "    .dataframe tbody tr th {\n",
       "        vertical-align: top;\n",
       "    }\n",
       "\n",
       "    .dataframe thead th {\n",
       "        text-align: right;\n",
       "    }\n",
       "</style>\n",
       "<table border=\"1\" class=\"dataframe\">\n",
       "  <thead>\n",
       "    <tr style=\"text-align: right;\">\n",
       "      <th></th>\n",
       "      <th>Cat_Col</th>\n",
       "      <th>p_value</th>\n",
       "    </tr>\n",
       "  </thead>\n",
       "  <tbody>\n",
       "    <tr>\n",
       "      <th>0</th>\n",
       "      <td>MSZoning</td>\n",
       "      <td>8.817634e-35</td>\n",
       "    </tr>\n",
       "    <tr>\n",
       "      <th>1</th>\n",
       "      <td>Street</td>\n",
       "      <td>1.170486e-01</td>\n",
       "    </tr>\n",
       "    <tr>\n",
       "      <th>2</th>\n",
       "      <td>Alley</td>\n",
       "      <td>4.899826e-08</td>\n",
       "    </tr>\n",
       "    <tr>\n",
       "      <th>3</th>\n",
       "      <td>LotShape</td>\n",
       "      <td>6.447524e-25</td>\n",
       "    </tr>\n",
       "    <tr>\n",
       "      <th>4</th>\n",
       "      <td>LandContour</td>\n",
       "      <td>2.742217e-08</td>\n",
       "    </tr>\n",
       "    <tr>\n",
       "      <th>5</th>\n",
       "      <td>Utilities</td>\n",
       "      <td>5.847168e-01</td>\n",
       "    </tr>\n",
       "    <tr>\n",
       "      <th>6</th>\n",
       "      <td>LotConfig</td>\n",
       "      <td>3.163167e-06</td>\n",
       "    </tr>\n",
       "    <tr>\n",
       "      <th>7</th>\n",
       "      <td>LandSlope</td>\n",
       "      <td>1.413964e-01</td>\n",
       "    </tr>\n",
       "    <tr>\n",
       "      <th>8</th>\n",
       "      <td>Neighborhood</td>\n",
       "      <td>1.558600e-225</td>\n",
       "    </tr>\n",
       "    <tr>\n",
       "      <th>9</th>\n",
       "      <td>Condition1</td>\n",
       "      <td>8.904549e-08</td>\n",
       "    </tr>\n",
       "    <tr>\n",
       "      <th>10</th>\n",
       "      <td>Condition2</td>\n",
       "      <td>4.342566e-02</td>\n",
       "    </tr>\n",
       "    <tr>\n",
       "      <th>11</th>\n",
       "      <td>BldgType</td>\n",
       "      <td>2.056736e-10</td>\n",
       "    </tr>\n",
       "    <tr>\n",
       "      <th>12</th>\n",
       "      <td>HouseStyle</td>\n",
       "      <td>3.376777e-25</td>\n",
       "    </tr>\n",
       "    <tr>\n",
       "      <th>13</th>\n",
       "      <td>RoofStyle</td>\n",
       "      <td>3.653523e-17</td>\n",
       "    </tr>\n",
       "    <tr>\n",
       "      <th>14</th>\n",
       "      <td>RoofMatl</td>\n",
       "      <td>7.231445e-08</td>\n",
       "    </tr>\n",
       "    <tr>\n",
       "      <th>15</th>\n",
       "      <td>Exterior1st</td>\n",
       "      <td>2.586089e-43</td>\n",
       "    </tr>\n",
       "    <tr>\n",
       "      <th>16</th>\n",
       "      <td>Exterior2nd</td>\n",
       "      <td>4.842186e-43</td>\n",
       "    </tr>\n",
       "    <tr>\n",
       "      <th>17</th>\n",
       "      <td>MasVnrType</td>\n",
       "      <td>4.793331e-65</td>\n",
       "    </tr>\n",
       "    <tr>\n",
       "      <th>18</th>\n",
       "      <td>ExterQual</td>\n",
       "      <td>1.439551e-204</td>\n",
       "    </tr>\n",
       "    <tr>\n",
       "      <th>19</th>\n",
       "      <td>ExterCond</td>\n",
       "      <td>5.106681e-07</td>\n",
       "    </tr>\n",
       "    <tr>\n",
       "      <th>20</th>\n",
       "      <td>Foundation</td>\n",
       "      <td>5.791895e-91</td>\n",
       "    </tr>\n",
       "    <tr>\n",
       "      <th>21</th>\n",
       "      <td>BsmtQual</td>\n",
       "      <td>9.610615e-186</td>\n",
       "    </tr>\n",
       "    <tr>\n",
       "      <th>22</th>\n",
       "      <td>BsmtCond</td>\n",
       "      <td>5.136901e-09</td>\n",
       "    </tr>\n",
       "    <tr>\n",
       "      <th>23</th>\n",
       "      <td>BsmtExposure</td>\n",
       "      <td>1.022671e-42</td>\n",
       "    </tr>\n",
       "    <tr>\n",
       "      <th>24</th>\n",
       "      <td>BsmtFinType1</td>\n",
       "      <td>1.807731e-63</td>\n",
       "    </tr>\n",
       "    <tr>\n",
       "      <th>25</th>\n",
       "      <td>BsmtFinType2</td>\n",
       "      <td>1.941009e-02</td>\n",
       "    </tr>\n",
       "    <tr>\n",
       "      <th>26</th>\n",
       "      <td>Heating</td>\n",
       "      <td>7.534721e-04</td>\n",
       "    </tr>\n",
       "    <tr>\n",
       "      <th>27</th>\n",
       "      <td>HeatingQC</td>\n",
       "      <td>2.667062e-67</td>\n",
       "    </tr>\n",
       "    <tr>\n",
       "      <th>28</th>\n",
       "      <td>CentralAir</td>\n",
       "      <td>1.809506e-22</td>\n",
       "    </tr>\n",
       "    <tr>\n",
       "      <th>29</th>\n",
       "      <td>Electrical</td>\n",
       "      <td>1.663249e-18</td>\n",
       "    </tr>\n",
       "    <tr>\n",
       "      <th>30</th>\n",
       "      <td>KitchenQual</td>\n",
       "      <td>3.032213e-192</td>\n",
       "    </tr>\n",
       "    <tr>\n",
       "      <th>31</th>\n",
       "      <td>Functional</td>\n",
       "      <td>4.841697e-04</td>\n",
       "    </tr>\n",
       "    <tr>\n",
       "      <th>32</th>\n",
       "      <td>FireplaceQu</td>\n",
       "      <td>5.016300e-19</td>\n",
       "    </tr>\n",
       "    <tr>\n",
       "      <th>33</th>\n",
       "      <td>GarageType</td>\n",
       "      <td>1.247154e-66</td>\n",
       "    </tr>\n",
       "    <tr>\n",
       "      <th>34</th>\n",
       "      <td>GarageFinish</td>\n",
       "      <td>1.199117e-93</td>\n",
       "    </tr>\n",
       "    <tr>\n",
       "      <th>35</th>\n",
       "      <td>GarageQual</td>\n",
       "      <td>1.240803e-07</td>\n",
       "    </tr>\n",
       "    <tr>\n",
       "      <th>36</th>\n",
       "      <td>GarageCond</td>\n",
       "      <td>1.309714e-07</td>\n",
       "    </tr>\n",
       "    <tr>\n",
       "      <th>37</th>\n",
       "      <td>PavedDrive</td>\n",
       "      <td>1.803569e-18</td>\n",
       "    </tr>\n",
       "    <tr>\n",
       "      <th>38</th>\n",
       "      <td>PoolQC</td>\n",
       "      <td>3.039853e-01</td>\n",
       "    </tr>\n",
       "    <tr>\n",
       "      <th>39</th>\n",
       "      <td>Fence</td>\n",
       "      <td>2.312646e-03</td>\n",
       "    </tr>\n",
       "    <tr>\n",
       "      <th>40</th>\n",
       "      <td>MiscFeature</td>\n",
       "      <td>1.047276e-01</td>\n",
       "    </tr>\n",
       "    <tr>\n",
       "      <th>41</th>\n",
       "      <td>SaleType</td>\n",
       "      <td>5.039767e-42</td>\n",
       "    </tr>\n",
       "    <tr>\n",
       "      <th>42</th>\n",
       "      <td>SaleCondition</td>\n",
       "      <td>7.988268e-44</td>\n",
       "    </tr>\n",
       "  </tbody>\n",
       "</table>\n",
       "</div>"
      ],
      "text/plain": [
       "          Cat_Col        p_value\n",
       "0        MSZoning   8.817634e-35\n",
       "1          Street   1.170486e-01\n",
       "2           Alley   4.899826e-08\n",
       "3        LotShape   6.447524e-25\n",
       "4     LandContour   2.742217e-08\n",
       "5       Utilities   5.847168e-01\n",
       "6       LotConfig   3.163167e-06\n",
       "7       LandSlope   1.413964e-01\n",
       "8    Neighborhood  1.558600e-225\n",
       "9      Condition1   8.904549e-08\n",
       "10     Condition2   4.342566e-02\n",
       "11       BldgType   2.056736e-10\n",
       "12     HouseStyle   3.376777e-25\n",
       "13      RoofStyle   3.653523e-17\n",
       "14       RoofMatl   7.231445e-08\n",
       "15    Exterior1st   2.586089e-43\n",
       "16    Exterior2nd   4.842186e-43\n",
       "17     MasVnrType   4.793331e-65\n",
       "18      ExterQual  1.439551e-204\n",
       "19      ExterCond   5.106681e-07\n",
       "20     Foundation   5.791895e-91\n",
       "21       BsmtQual  9.610615e-186\n",
       "22       BsmtCond   5.136901e-09\n",
       "23   BsmtExposure   1.022671e-42\n",
       "24   BsmtFinType1   1.807731e-63\n",
       "25   BsmtFinType2   1.941009e-02\n",
       "26        Heating   7.534721e-04\n",
       "27      HeatingQC   2.667062e-67\n",
       "28     CentralAir   1.809506e-22\n",
       "29     Electrical   1.663249e-18\n",
       "30    KitchenQual  3.032213e-192\n",
       "31     Functional   4.841697e-04\n",
       "32    FireplaceQu   5.016300e-19\n",
       "33     GarageType   1.247154e-66\n",
       "34   GarageFinish   1.199117e-93\n",
       "35     GarageQual   1.240803e-07\n",
       "36     GarageCond   1.309714e-07\n",
       "37     PavedDrive   1.803569e-18\n",
       "38         PoolQC   3.039853e-01\n",
       "39          Fence   2.312646e-03\n",
       "40    MiscFeature   1.047276e-01\n",
       "41       SaleType   5.039767e-42\n",
       "42  SaleCondition   7.988268e-44"
      ]
     },
     "execution_count": 13,
     "metadata": {},
     "output_type": "execute_result"
    }
   ],
   "source": [
    "anova_df=pd.DataFrame({'Cat_Col':cat_cols,'p_value':p_values})\n",
    "anova_df"
   ]
  },
  {
   "cell_type": "code",
   "execution_count": 14,
   "metadata": {},
   "outputs": [
    {
     "data": {
      "text/plain": [
       "['MSZoning',\n",
       " 'Alley',\n",
       " 'LotShape',\n",
       " 'LandContour',\n",
       " 'LotConfig',\n",
       " 'Neighborhood',\n",
       " 'Condition1',\n",
       " 'Condition2',\n",
       " 'BldgType',\n",
       " 'HouseStyle',\n",
       " 'RoofStyle',\n",
       " 'RoofMatl',\n",
       " 'Exterior1st',\n",
       " 'Exterior2nd',\n",
       " 'MasVnrType',\n",
       " 'ExterQual',\n",
       " 'ExterCond',\n",
       " 'Foundation',\n",
       " 'BsmtQual',\n",
       " 'BsmtCond',\n",
       " 'BsmtExposure',\n",
       " 'BsmtFinType1',\n",
       " 'BsmtFinType2',\n",
       " 'Heating',\n",
       " 'HeatingQC',\n",
       " 'CentralAir',\n",
       " 'Electrical',\n",
       " 'KitchenQual',\n",
       " 'Functional',\n",
       " 'FireplaceQu',\n",
       " 'GarageType',\n",
       " 'GarageFinish',\n",
       " 'GarageQual',\n",
       " 'GarageCond',\n",
       " 'PavedDrive',\n",
       " 'Fence',\n",
       " 'SaleType',\n",
       " 'SaleCondition']"
      ]
     },
     "execution_count": 14,
     "metadata": {},
     "output_type": "execute_result"
    }
   ],
   "source": [
    "anova_correlated_cols=list(anova_df[anova_df['p_value']<0.05]['Cat_Col'])\n",
    "anova_correlated_cols"
   ]
  },
  {
   "cell_type": "code",
   "execution_count": 15,
   "metadata": {},
   "outputs": [
    {
     "data": {
      "text/plain": [
       "Id                 0\n",
       "MSSubClass         0\n",
       "MSZoning           0\n",
       "LotFrontage      259\n",
       "LotArea            0\n",
       "                ... \n",
       "MoSold             0\n",
       "YrSold             0\n",
       "SaleType           0\n",
       "SaleCondition      0\n",
       "SalePrice          0\n",
       "Length: 81, dtype: int64"
      ]
     },
     "execution_count": 15,
     "metadata": {},
     "output_type": "execute_result"
    }
   ],
   "source": [
    "house_price_df.isnull().sum()   #missing value count"
   ]
  },
  {
   "cell_type": "code",
   "execution_count": 16,
   "metadata": {},
   "outputs": [
    {
     "data": {
      "text/plain": [
       "0       208500\n",
       "1       181500\n",
       "2       223500\n",
       "3       140000\n",
       "4       250000\n",
       "         ...  \n",
       "1455    175000\n",
       "1456    210000\n",
       "1457    266500\n",
       "1458    142125\n",
       "1459    147500\n",
       "Name: SalePrice, Length: 1460, dtype: int64"
      ]
     },
     "execution_count": 16,
     "metadata": {},
     "output_type": "execute_result"
    }
   ],
   "source": [
    "y=house_price_df['SalePrice'] #output into another variable\n",
    "y"
   ]
  },
  {
   "cell_type": "code",
   "execution_count": 17,
   "metadata": {},
   "outputs": [
    {
     "data": {
      "text/plain": [
       "dtype('float64')"
      ]
     },
     "execution_count": 17,
     "metadata": {},
     "output_type": "execute_result"
    }
   ],
   "source": [
    "house_price_df['LotFrontage'].dtype"
   ]
  },
  {
   "cell_type": "code",
   "execution_count": 18,
   "metadata": {},
   "outputs": [
    {
     "data": {
      "text/plain": [
       "['Id']"
      ]
     },
     "execution_count": 18,
     "metadata": {},
     "output_type": "execute_result"
    }
   ],
   "source": [
    "identical_cols=[]      #finding identical columns\n",
    "for col in house_price_df.columns:\n",
    "    if house_price_df[col].nunique()==1 or house_price_df[col].nunique()==house_price_df.shape[0]:\n",
    "        identical_cols.append(col)\n",
    "identical_cols\n"
   ]
  },
  {
   "cell_type": "code",
   "execution_count": 19,
   "metadata": {},
   "outputs": [
    {
     "data": {
      "text/plain": [
       "Index(['Alley', 'PoolQC', 'Fence', 'MiscFeature'], dtype='object')"
      ]
     },
     "execution_count": 19,
     "metadata": {},
     "output_type": "execute_result"
    }
   ],
   "source": [
    "na_df=pd.DataFrame({'Column_name':house_price_df.columns,'Missing_value_count':house_price_df.isnull().sum(),  #finding columns >than 50%\n",
    "                  'Missing_value_percent':house_price_df.isnull().sum()/house_price_df.shape[0]*100})\n",
    "cols_grt_50=(na_df[na_df['Missing_value_percent']>50]['Column_name'].index)\n",
    "cols_grt_50"
   ]
  },
  {
   "cell_type": "code",
   "execution_count": 20,
   "metadata": {},
   "outputs": [],
   "source": [
    "house_price_df.drop(columns='SalePrice',inplace=True)"
   ]
  },
  {
   "cell_type": "code",
   "execution_count": 21,
   "metadata": {},
   "outputs": [],
   "source": [
    "house_price_df.drop(columns=identical_cols,inplace=True)\n",
    "\n",
    "\n"
   ]
  },
  {
   "cell_type": "code",
   "execution_count": 22,
   "metadata": {},
   "outputs": [],
   "source": [
    "house_price_df.drop(columns=cols_grt_50,inplace=True)"
   ]
  },
  {
   "cell_type": "code",
   "execution_count": 23,
   "metadata": {},
   "outputs": [],
   "source": [
    "cat_cols=[col for col in house_price_df.columns if house_price_df[col].dtype=='object']"
   ]
  },
  {
   "cell_type": "code",
   "execution_count": 24,
   "metadata": {},
   "outputs": [],
   "source": [
    "con_cols=[col for col in house_price_df.columns if house_price_df[col].dtype=='int64' or house_price_df[col].dtype=='float64']"
   ]
  },
  {
   "cell_type": "code",
   "execution_count": 25,
   "metadata": {},
   "outputs": [],
   "source": [
    "#train-test-split\n",
    "X_train,X_test,y_train,y_test=train_test_split(house_price_df,y,test_size=0.2,random_state=42)\n"
   ]
  },
  {
   "cell_type": "code",
   "execution_count": 26,
   "metadata": {},
   "outputs": [],
   "source": [
    "for col in con_cols:                                                   #filling missing continous variables with mean\n",
    "    X_train[col]=X_train[con_cols].fillna(X_train[col].mean())\n",
    "    X_test[col]=X_test[con_cols].fillna(X_train[col].mean())\n",
    "   "
   ]
  },
  {
   "cell_type": "code",
   "execution_count": 27,
   "metadata": {},
   "outputs": [],
   "source": [
    "for col in cat_cols:                                                 #filling categorical variables with mode\n",
    "    X_train[col]=X_train[cat_cols].fillna(X_train[col].mode())\n",
    "    X_test[col]=X_test[cat_cols].fillna(X_train[col].mode())\n",
    "    "
   ]
  },
  {
   "cell_type": "code",
   "execution_count": 28,
   "metadata": {},
   "outputs": [],
   "source": [
    "import numpy as np                                    #standard scaling for continuous variables\n",
    "from sklearn.preprocessing import StandardScaler,MinMaxScaler\n",
    "std=StandardScaler()\n",
    "for col in con_cols:\n",
    "    X_train[col]=std.fit_transform(np.array(X_train[col]).reshape(-1,1))\n",
    "    X_test[col]=std.transform(np.array(X_test[col]).reshape(-1,1))"
   ]
  },
  {
   "cell_type": "code",
   "execution_count": 29,
   "metadata": {},
   "outputs": [],
   "source": [
    "one_hot_train=pd.get_dummies(X_train[cat_cols])\n",
    "one_hot_test=pd.get_dummies(X_test[cat_cols])"
   ]
  },
  {
   "cell_type": "code",
   "execution_count": 30,
   "metadata": {},
   "outputs": [],
   "source": [
    "one_hot_train_final,one_hot_test_final=one_hot_train.align(one_hot_test,join='inner',axis=1,fill_value=0)"
   ]
  },
  {
   "cell_type": "code",
   "execution_count": 31,
   "metadata": {},
   "outputs": [],
   "source": [
    "X_train_final=pd.concat([X_train[con_cols],one_hot_train_final],axis=1)\n",
    "X_test_final=pd.concat([X_test[con_cols],one_hot_test_final],axis=1)"
   ]
  },
  {
   "cell_type": "code",
   "execution_count": 32,
   "metadata": {},
   "outputs": [
    {
     "name": "stdout",
     "output_type": "stream",
     "text": [
      "Train Score 0.04235112396455476\n",
      "Test Score 0.08844503731083764\n"
     ]
    }
   ],
   "source": [
    "from sklearn.linear_model import LinearRegression      #linear regression \n",
    "linreg=LinearRegression() \n",
    "linreg.fit(X_train_final,y_train)\n",
    "pred=linreg.predict(X_test_final)\n",
    "#r2_score(y_test,pred)\n",
    "print('Train Score',linreg.score(X_train_final,y_train))\n",
    "print('Test Score',linreg.score(X_test_final,y_test))"
   ]
  },
  {
   "cell_type": "code",
   "execution_count": 33,
   "metadata": {},
   "outputs": [
    {
     "name": "stdout",
     "output_type": "stream",
     "text": [
      "train_score 0.24845620107266708\n",
      "test_score 0.24521895201507216\n"
     ]
    }
   ],
   "source": [
    "from sklearn.tree import DecisionTreeRegressor   #decision tree\n",
    "tree=DecisionTreeRegressor(max_depth=4)\n",
    "tree.fit(X_train_final,y_train)\n",
    "tree.predict(X_test_final)\n",
    "print('train_score',tree.score(X_train_final,y_train))\n",
    "print('test_score',tree.score(X_test_final,y_test))"
   ]
  },
  {
   "cell_type": "code",
   "execution_count": 34,
   "metadata": {},
   "outputs": [
    {
     "data": {
      "text/plain": [
       "{'max_depth': 6,\n",
       " 'max_features': 'sqrt',\n",
       " 'min_samples_leaf': 2,\n",
       " 'min_samples_split': 2}"
      ]
     },
     "execution_count": 34,
     "metadata": {},
     "output_type": "execute_result"
    }
   ],
   "source": [
    "from sklearn.model_selection import GridSearchCV    #decision tree grid search\n",
    "param_dict_tree={'max_depth':[1,3,4,5,6],\n",
    "                'min_samples_leaf':[2,4,5,7,8],\n",
    "                'min_samples_split':[2,3,4,5,6],\n",
    "                'max_features':[\"auto\",\"sqrt\",\"log2\"]}\n",
    "gdcv_tree=GridSearchCV(tree,param_grid=param_dict_tree,cv=3)\n",
    "gdcv_tree.fit(X_train_final,y_train)\n",
    "gdcv_tree.predict(X_test_final)\n",
    "gdcv_tree.best_params_"
   ]
  },
  {
   "cell_type": "code",
   "execution_count": 35,
   "metadata": {},
   "outputs": [
    {
     "data": {
      "text/plain": [
       "array([185836.66504854, 237170.09589041,  97927.27272727, 125468.88888889,\n",
       "       185836.66504854, 110142.85714286, 151471.85294118, 163336.48148148,\n",
       "       110142.85714286, 151471.85294118, 151471.85294118, 185836.66504854,\n",
       "        56950.        , 185836.66504854, 237170.09589041, 185836.66504854,\n",
       "       237170.09589041, 185836.66504854,  97927.27272727, 185836.66504854,\n",
       "       185836.66504854, 252474.52380952, 237170.09589041, 185836.66504854,\n",
       "       185836.66504854, 207645.7826087 , 185836.66504854, 185836.66504854,\n",
       "       237170.09589041, 241600.        , 151471.85294118, 237170.09589041,\n",
       "       151471.85294118, 185836.66504854, 185836.66504854, 185836.66504854,\n",
       "       151471.85294118, 237170.09589041, 237170.09589041, 127625.        ,\n",
       "       125468.88888889, 237170.09589041, 185836.66504854, 185836.66504854,\n",
       "       185836.66504854, 138931.04545455, 185836.66504854, 185836.66504854,\n",
       "       237170.09589041, 151471.85294118, 185836.66504854, 185836.66504854,\n",
       "       107854.54545455, 185836.66504854, 183636.        , 185836.66504854,\n",
       "       237170.09589041, 185836.66504854, 169551.55555556, 185836.66504854,\n",
       "        97927.27272727, 185836.66504854, 237170.09589041, 185836.66504854,\n",
       "       185836.66504854, 185836.66504854, 151471.85294118, 237170.09589041,\n",
       "       185836.66504854, 163336.48148148, 135150.52777778, 185836.66504854,\n",
       "       185836.66504854, 135150.52777778, 185836.66504854, 207645.7826087 ,\n",
       "       237170.09589041, 237170.09589041, 185836.66504854, 185836.66504854,\n",
       "       107854.54545455,  97927.27272727, 185836.66504854,  97927.27272727,\n",
       "       237170.09589041, 125468.88888889, 252474.52380952, 207645.7826087 ,\n",
       "       183636.        , 237170.09589041,  97927.27272727, 237170.09589041,\n",
       "       185836.66504854, 237170.09589041, 135150.52777778, 185836.66504854,\n",
       "       151471.85294118, 163336.48148148, 185836.66504854, 237170.09589041,\n",
       "       185836.66504854, 237170.09589041, 185836.66504854, 115271.42857143,\n",
       "       169551.55555556, 185836.66504854, 185836.66504854, 207645.7826087 ,\n",
       "       185836.66504854, 237170.09589041,  97927.27272727, 185836.66504854,\n",
       "       185836.66504854, 138931.04545455, 237170.09589041,  97927.27272727,\n",
       "       127625.        , 185836.66504854, 141160.        , 185836.66504854,\n",
       "       207645.7826087 , 183636.        , 237170.09589041, 151471.85294118,\n",
       "       185836.66504854, 185836.66504854, 237170.09589041, 115271.42857143,\n",
       "       185836.66504854, 237170.09589041, 237170.09589041, 185836.66504854,\n",
       "       237170.09589041, 207388.88888889, 185836.66504854, 185836.66504854,\n",
       "       207645.7826087 , 185836.66504854, 185836.66504854, 237170.09589041,\n",
       "       237170.09589041, 185836.66504854, 237170.09589041, 151471.85294118,\n",
       "       140941.17647059, 150135.29411765, 151471.85294118, 185836.66504854,\n",
       "       150135.29411765,  97111.53846154,  97111.53846154, 237170.09589041,\n",
       "       185836.66504854, 135150.52777778,  97927.27272727, 135150.52777778,\n",
       "       135150.52777778, 185836.66504854,  97111.53846154, 185836.66504854,\n",
       "       185836.66504854, 135150.52777778, 185836.66504854, 185836.66504854,\n",
       "       151471.85294118, 135150.52777778, 252474.52380952, 237170.09589041,\n",
       "       237170.09589041, 193621.86111111, 185836.66504854, 151471.85294118,\n",
       "       151471.85294118, 107854.54545455, 151471.85294118, 151471.85294118,\n",
       "       151471.85294118, 151471.85294118, 125468.88888889, 163336.48148148,\n",
       "       169551.55555556, 185836.66504854, 169551.55555556, 125468.88888889,\n",
       "       237170.09589041, 138931.04545455, 185836.66504854, 207645.7826087 ,\n",
       "       207645.7826087 , 107854.54545455, 107854.54545455,  97111.53846154,\n",
       "       151471.85294118, 169551.55555556, 207645.7826087 , 185836.66504854,\n",
       "       241600.        , 193621.86111111, 163336.48148148, 151471.85294118,\n",
       "       185836.66504854, 237170.09589041, 138931.04545455, 237170.09589041,\n",
       "       185836.66504854, 169551.55555556, 237170.09589041, 185836.66504854,\n",
       "       151471.85294118, 185836.66504854, 237170.09589041, 185836.66504854,\n",
       "       185836.66504854, 163336.48148148, 185836.66504854, 223272.        ,\n",
       "       207645.7826087 , 169551.55555556, 169551.55555556, 135150.52777778,\n",
       "       185836.66504854, 207645.7826087 , 185836.66504854, 125468.88888889,\n",
       "       185836.66504854, 185836.66504854,  96500.        ,  97111.53846154,\n",
       "       237170.09589041,  96500.        , 185836.66504854, 237170.09589041,\n",
       "       185836.66504854, 185836.66504854, 237170.09589041, 193621.86111111,\n",
       "       185836.66504854, 150135.29411765, 237170.09589041, 207645.7826087 ,\n",
       "        97927.27272727, 169551.55555556, 237170.09589041, 237170.09589041,\n",
       "       237170.09589041, 140941.17647059, 169551.55555556, 185836.66504854,\n",
       "       183636.        , 127625.        , 237170.09589041, 169551.55555556,\n",
       "       151471.85294118,  97111.53846154, 185836.66504854, 207645.7826087 ,\n",
       "       125468.88888889, 107854.54545455, 237170.09589041, 237170.09589041,\n",
       "       185836.66504854, 185836.66504854, 185836.66504854, 169551.55555556,\n",
       "       185836.66504854, 237170.09589041, 183636.        , 183636.        ,\n",
       "       185836.66504854, 169551.55555556, 185836.66504854, 207645.7826087 ,\n",
       "       237170.09589041, 107854.54545455, 135150.52777778, 185836.66504854,\n",
       "       107854.54545455, 207645.7826087 , 185836.66504854, 151471.85294118,\n",
       "       237170.09589041, 110142.85714286, 252474.52380952,  97111.53846154,\n",
       "       185836.66504854, 185836.66504854, 237170.09589041,  97927.27272727,\n",
       "       185836.66504854, 237170.09589041, 193621.86111111, 185836.66504854])"
      ]
     },
     "execution_count": 35,
     "metadata": {},
     "output_type": "execute_result"
    }
   ],
   "source": [
    "from sklearn.model_selection import RandomizedSearchCV                 #decision tree randomized search\n",
    "param_dict_tree={'max_depth':[1,3,4,5,6],\n",
    "                'min_samples_leaf':[2,4,5,7,8],\n",
    "                'min_samples_split':[2,3,4,5,6],\n",
    "                'max_features':[\"auto\",\"sqrt\",\"log2\"]}\n",
    "rscv_tree=RandomizedSearchCV(tree,param_distributions=param_dict_tree,cv=3,n_iter=5)\n",
    "rscv_tree.fit(X_train_final,y_train)\n",
    "rscv_tree.predict(X_test_final)\n"
   ]
  },
  {
   "cell_type": "code",
   "execution_count": 39,
   "metadata": {},
   "outputs": [
    {
     "name": "stdout",
     "output_type": "stream",
     "text": [
      "Fitting 3 folds for each of 8 candidates, totalling 24 fits\n",
      "[CV] learning_rate=0.01, n_estimators=20 .............................\n",
      "[CV] . learning_rate=0.01, n_estimators=20, score=0.207, total=   0.1s\n",
      "[CV] learning_rate=0.01, n_estimators=20 .............................\n"
     ]
    },
    {
     "name": "stderr",
     "output_type": "stream",
     "text": [
      "[Parallel(n_jobs=1)]: Using backend SequentialBackend with 1 concurrent workers.\n",
      "[Parallel(n_jobs=1)]: Done   1 out of   1 | elapsed:    0.0s remaining:    0.0s\n"
     ]
    },
    {
     "name": "stdout",
     "output_type": "stream",
     "text": [
      "[CV] . learning_rate=0.01, n_estimators=20, score=0.230, total=   0.1s\n",
      "[CV] learning_rate=0.01, n_estimators=20 .............................\n",
      "[CV] . learning_rate=0.01, n_estimators=20, score=0.211, total=   0.1s\n",
      "[CV] learning_rate=0.01, n_estimators=30 .............................\n"
     ]
    },
    {
     "name": "stderr",
     "output_type": "stream",
     "text": [
      "[Parallel(n_jobs=1)]: Done   2 out of   2 | elapsed:    0.2s remaining:    0.0s\n"
     ]
    },
    {
     "name": "stdout",
     "output_type": "stream",
     "text": [
      "[CV] . learning_rate=0.01, n_estimators=30, score=0.215, total=   0.2s\n",
      "[CV] learning_rate=0.01, n_estimators=30 .............................\n",
      "[CV] . learning_rate=0.01, n_estimators=30, score=0.223, total=   0.2s\n",
      "[CV] learning_rate=0.01, n_estimators=30 .............................\n",
      "[CV] . learning_rate=0.01, n_estimators=30, score=0.210, total=   0.2s\n",
      "[CV] learning_rate=0.01, n_estimators=40 .............................\n",
      "[CV] . learning_rate=0.01, n_estimators=40, score=0.215, total=   0.2s\n",
      "[CV] learning_rate=0.01, n_estimators=40 .............................\n",
      "[CV] . learning_rate=0.01, n_estimators=40, score=0.230, total=   0.2s\n",
      "[CV] learning_rate=0.01, n_estimators=40 .............................\n",
      "[CV] . learning_rate=0.01, n_estimators=40, score=0.209, total=   0.3s\n",
      "[CV] learning_rate=0.01, n_estimators=50 .............................\n",
      "[CV] . learning_rate=0.01, n_estimators=50, score=0.172, total=   0.3s\n",
      "[CV] learning_rate=0.01, n_estimators=50 .............................\n",
      "[CV] . learning_rate=0.01, n_estimators=50, score=0.230, total=   0.3s\n",
      "[CV] learning_rate=0.01, n_estimators=50 .............................\n",
      "[CV] . learning_rate=0.01, n_estimators=50, score=0.206, total=   0.3s\n",
      "[CV] learning_rate=0.1, n_estimators=20 ..............................\n",
      "[CV] .. learning_rate=0.1, n_estimators=20, score=0.158, total=   0.1s\n",
      "[CV] learning_rate=0.1, n_estimators=20 ..............................\n",
      "[CV] .. learning_rate=0.1, n_estimators=20, score=0.211, total=   0.2s\n",
      "[CV] learning_rate=0.1, n_estimators=20 ..............................\n",
      "[CV] .. learning_rate=0.1, n_estimators=20, score=0.148, total=   0.1s\n",
      "[CV] learning_rate=0.1, n_estimators=30 ..............................\n",
      "[CV] .. learning_rate=0.1, n_estimators=30, score=0.163, total=   0.2s\n",
      "[CV] learning_rate=0.1, n_estimators=30 ..............................\n",
      "[CV] .. learning_rate=0.1, n_estimators=30, score=0.193, total=   0.2s\n",
      "[CV] learning_rate=0.1, n_estimators=30 ..............................\n",
      "[CV] .. learning_rate=0.1, n_estimators=30, score=0.162, total=   0.2s\n",
      "[CV] learning_rate=0.1, n_estimators=40 ..............................\n",
      "[CV] .. learning_rate=0.1, n_estimators=40, score=0.185, total=   0.3s\n",
      "[CV] learning_rate=0.1, n_estimators=40 ..............................\n",
      "[CV] .. learning_rate=0.1, n_estimators=40, score=0.172, total=   0.3s\n",
      "[CV] learning_rate=0.1, n_estimators=40 ..............................\n",
      "[CV] .. learning_rate=0.1, n_estimators=40, score=0.125, total=   0.3s\n",
      "[CV] learning_rate=0.1, n_estimators=50 ..............................\n",
      "[CV] .. learning_rate=0.1, n_estimators=50, score=0.168, total=   0.3s\n",
      "[CV] learning_rate=0.1, n_estimators=50 ..............................\n",
      "[CV] .. learning_rate=0.1, n_estimators=50, score=0.166, total=   0.3s\n",
      "[CV] learning_rate=0.1, n_estimators=50 ..............................\n",
      "[CV] .. learning_rate=0.1, n_estimators=50, score=0.079, total=   0.3s\n"
     ]
    },
    {
     "name": "stderr",
     "output_type": "stream",
     "text": [
      "[Parallel(n_jobs=1)]: Done  24 out of  24 | elapsed:    5.3s finished\n"
     ]
    },
    {
     "data": {
      "text/plain": [
       "array([187243.43438914, 239557.95652174, 107250.92592593, 124138.0952381 ,\n",
       "       187243.43438914, 109279.31034483, 138289.78947368, 173275.92735043,\n",
       "       109279.31034483, 138289.78947368, 138289.78947368, 187243.43438914,\n",
       "       138289.78947368, 187243.43438914, 239557.95652174, 187243.43438914,\n",
       "       239557.95652174, 187243.43438914, 107250.92592593, 187243.43438914,\n",
       "       187243.43438914, 239557.95652174, 239557.95652174, 187243.43438914,\n",
       "       187243.43438914, 173275.92735043, 187243.43438914, 187243.43438914,\n",
       "       239557.95652174, 173275.92735043, 138289.78947368, 239557.95652174,\n",
       "       138289.78947368, 187243.43438914, 187243.43438914, 187243.43438914,\n",
       "       138289.78947368, 239557.95652174, 239557.95652174, 116570.        ,\n",
       "       124138.0952381 , 239557.95652174, 187243.43438914, 187243.43438914,\n",
       "       187243.43438914, 146257.36734694, 187243.43438914, 187243.43438914,\n",
       "       239557.95652174, 138289.78947368, 187243.43438914, 187243.43438914,\n",
       "       108964.70588235, 187243.43438914, 170375.        , 187243.43438914,\n",
       "       239557.95652174, 187243.43438914, 172501.87391304, 187243.43438914,\n",
       "       107250.92592593, 187243.43438914, 239557.95652174, 187243.43438914,\n",
       "       187243.43438914, 187243.43438914, 138289.78947368, 239557.95652174,\n",
       "       187243.43438914, 173275.92735043, 172501.87391304, 187243.43438914,\n",
       "       187243.43438914, 172501.87391304, 187243.43438914, 173275.92735043,\n",
       "       239557.95652174, 239557.95652174, 187243.43438914, 187243.43438914,\n",
       "       108964.70588235, 107250.92592593, 187243.43438914, 107250.92592593,\n",
       "       239557.95652174, 124138.0952381 , 239557.95652174, 173275.92735043,\n",
       "       170375.        , 239557.95652174, 107250.92592593, 239557.95652174,\n",
       "       187243.43438914, 239557.95652174, 172501.87391304, 187243.43438914,\n",
       "       138289.78947368, 173275.92735043, 187243.43438914, 239557.95652174,\n",
       "       187243.43438914, 239557.95652174, 187243.43438914, 115572.        ,\n",
       "       172501.87391304, 187243.43438914, 187243.43438914, 173275.92735043,\n",
       "       187243.43438914, 239557.95652174, 107250.92592593, 187243.43438914,\n",
       "       187243.43438914, 146257.36734694, 239557.95652174, 107250.92592593,\n",
       "       116570.        , 187243.43438914, 166500.78431373, 187243.43438914,\n",
       "       173275.92735043, 170375.        , 239557.95652174, 138289.78947368,\n",
       "       187243.43438914, 187243.43438914, 239557.95652174, 115572.        ,\n",
       "       187243.43438914, 239557.95652174, 239557.95652174, 187243.43438914,\n",
       "       239557.95652174, 166500.78431373, 187243.43438914, 187243.43438914,\n",
       "       173275.92735043, 187243.43438914, 187243.43438914, 239557.95652174,\n",
       "       239557.95652174, 187243.43438914, 239557.95652174, 138289.78947368,\n",
       "       173275.92735043, 172501.87391304, 138289.78947368, 187243.43438914,\n",
       "       172501.87391304, 138289.78947368, 138289.78947368, 239557.95652174,\n",
       "       187243.43438914, 172501.87391304, 107250.92592593, 172501.87391304,\n",
       "       172501.87391304, 187243.43438914, 138289.78947368, 187243.43438914,\n",
       "       187243.43438914, 172501.87391304, 187243.43438914, 187243.43438914,\n",
       "       138289.78947368, 172501.87391304, 239557.95652174, 239557.95652174,\n",
       "       239557.95652174, 175306.396     , 187243.43438914, 138289.78947368,\n",
       "       138289.78947368, 108964.70588235, 138289.78947368, 138289.78947368,\n",
       "       138289.78947368, 138289.78947368, 124138.0952381 , 173275.92735043,\n",
       "       172501.87391304, 187243.43438914, 172501.87391304, 124138.0952381 ,\n",
       "       239557.95652174, 146257.36734694, 187243.43438914, 173275.92735043,\n",
       "       173275.92735043, 108964.70588235, 108964.70588235, 138289.78947368,\n",
       "       138289.78947368, 172501.87391304, 173275.92735043, 187243.43438914,\n",
       "       173275.92735043, 175306.396     , 173275.92735043, 138289.78947368,\n",
       "       187243.43438914, 239557.95652174, 146257.36734694, 239557.95652174,\n",
       "       187243.43438914, 172501.87391304, 239557.95652174, 187243.43438914,\n",
       "       138289.78947368, 187243.43438914, 239557.95652174, 187243.43438914,\n",
       "       187243.43438914, 173275.92735043, 187243.43438914, 187243.43438914,\n",
       "       173275.92735043, 172501.87391304, 172501.87391304, 172501.87391304,\n",
       "       187243.43438914, 173275.92735043, 187243.43438914, 124138.0952381 ,\n",
       "       187243.43438914, 187243.43438914, 138289.78947368, 138289.78947368,\n",
       "       239557.95652174, 138289.78947368, 187243.43438914, 239557.95652174,\n",
       "       187243.43438914, 187243.43438914, 239557.95652174, 175306.396     ,\n",
       "       187243.43438914, 172501.87391304, 239557.95652174, 173275.92735043,\n",
       "       107250.92592593, 172501.87391304, 239557.95652174, 239557.95652174,\n",
       "       239557.95652174, 173275.92735043, 172501.87391304, 187243.43438914,\n",
       "       170375.        , 116570.        , 239557.95652174, 172501.87391304,\n",
       "       138289.78947368, 138289.78947368, 187243.43438914, 173275.92735043,\n",
       "       124138.0952381 , 108964.70588235, 239557.95652174, 239557.95652174,\n",
       "       187243.43438914, 187243.43438914, 187243.43438914, 172501.87391304,\n",
       "       187243.43438914, 239557.95652174, 170375.        , 170375.        ,\n",
       "       187243.43438914, 172501.87391304, 187243.43438914, 173275.92735043,\n",
       "       239557.95652174, 108964.70588235, 172501.87391304, 187243.43438914,\n",
       "       108964.70588235, 173275.92735043, 187243.43438914, 138289.78947368,\n",
       "       239557.95652174, 109279.31034483, 239557.95652174, 138289.78947368,\n",
       "       187243.43438914, 187243.43438914, 239557.95652174, 107250.92592593,\n",
       "       187243.43438914, 239557.95652174, 175306.396     , 187243.43438914])"
      ]
     },
     "execution_count": 39,
     "metadata": {},
     "output_type": "execute_result"
    }
   ],
   "source": [
    "adaboost=AdaBoostRegressor()               #Adaboost Regressor\n",
    "param_boost={'n_estimators':[20,30,40,50],\n",
    "            'learning_rate':[0.01,0.1]}\n",
    "gdcv_boost=GridSearchCV(adaboost,param_grid=param_boost,cv=3,verbose=3)\n",
    "gdcv_boost.fit(X_train_final,y_train)\n",
    "gdcv_boost.predict(X_test_final)"
   ]
  },
  {
   "cell_type": "code",
   "execution_count": 40,
   "metadata": {},
   "outputs": [
    {
     "data": {
      "text/plain": [
       "{'learning_rate': 0.01, 'n_estimators': 40}"
      ]
     },
     "execution_count": 40,
     "metadata": {},
     "output_type": "execute_result"
    }
   ],
   "source": [
    "gdcv_boost.best_params_"
   ]
  },
  {
   "cell_type": "code",
   "execution_count": 43,
   "metadata": {},
   "outputs": [
    {
     "data": {
      "text/plain": [
       "array([187024.41843972, 240849.83829787, 103116.37931034, 127148.30379747,\n",
       "       187024.41843972, 111060.        , 138821.16853933, 171997.1965812 ,\n",
       "       111060.        , 138821.16853933, 138821.16853933, 187024.41843972,\n",
       "       138529.35779817, 187024.41843972, 240849.83829787, 187024.41843972,\n",
       "       240849.83829787, 187024.41843972, 103116.37931034, 187024.41843972,\n",
       "       187024.41843972, 240849.83829787, 240849.83829787, 187024.41843972,\n",
       "       187024.41843972, 171997.1965812 , 187024.41843972, 187024.41843972,\n",
       "       240849.83829787, 171953.95238095, 138821.16853933, 240849.83829787,\n",
       "       138821.16853933, 187024.41843972, 187024.41843972, 187024.41843972,\n",
       "       138821.16853933, 240849.83829787, 240849.83829787, 119767.39130435,\n",
       "       127148.30379747, 240849.83829787, 187024.41843972, 187024.41843972,\n",
       "       187024.41843972, 140851.8313253 , 187024.41843972, 187024.41843972,\n",
       "       240849.83829787, 138821.16853933, 187024.41843972, 187024.41843972,\n",
       "       110742.85714286, 187024.41843972, 165029.59259259, 187024.41843972,\n",
       "       240849.83829787, 187024.41843972, 170054.44017094, 187024.41843972,\n",
       "       103116.37931034, 187024.41843972, 240849.83829787, 187024.41843972,\n",
       "       187024.41843972, 187024.41843972, 138821.16853933, 240849.83829787,\n",
       "       187024.41843972, 171953.95238095, 170054.44017094, 187024.41843972,\n",
       "       187024.41843972, 170054.44017094, 187024.41843972, 171997.1965812 ,\n",
       "       240849.83829787, 240849.83829787, 187024.41843972, 187024.41843972,\n",
       "       110742.85714286, 103116.37931034, 187024.41843972, 103116.37931034,\n",
       "       240849.83829787, 127148.30379747, 240849.83829787, 171997.1965812 ,\n",
       "       165029.59259259, 240849.83829787, 103116.37931034, 240849.83829787,\n",
       "       187024.41843972, 240849.83829787, 170054.44017094, 187024.41843972,\n",
       "       138821.16853933, 171953.95238095, 187024.41843972, 240849.83829787,\n",
       "       187024.41843972, 240849.83829787, 187024.41843972, 119554.54545455,\n",
       "       170054.44017094, 187024.41843972, 187024.41843972, 171997.1965812 ,\n",
       "       187024.41843972, 240849.83829787, 103116.37931034, 187024.41843972,\n",
       "       187024.41843972, 140851.8313253 , 240849.83829787, 103116.37931034,\n",
       "       119767.39130435, 187024.41843972, 165029.59259259, 187024.41843972,\n",
       "       171953.95238095, 165029.59259259, 240849.83829787, 138821.16853933,\n",
       "       187024.41843972, 187024.41843972, 240849.83829787, 119554.54545455,\n",
       "       187024.41843972, 240849.83829787, 240849.83829787, 187024.41843972,\n",
       "       240849.83829787, 165625.86363636, 186771.49086758, 187024.41843972,\n",
       "       171997.1965812 , 187024.41843972, 187024.41843972, 240849.83829787,\n",
       "       240849.83829787, 187024.41843972, 240849.83829787, 138821.16853933,\n",
       "       171997.1965812 , 170054.44017094, 138821.16853933, 187024.41843972,\n",
       "       170054.44017094, 138821.16853933, 138821.16853933, 240849.83829787,\n",
       "       187024.41843972, 170054.44017094, 103116.37931034, 170054.44017094,\n",
       "       170054.44017094, 187024.41843972, 138821.16853933, 187024.41843972,\n",
       "       187024.41843972, 170054.44017094, 187024.41843972, 187024.41843972,\n",
       "       138821.16853933, 170054.44017094, 240849.83829787, 240849.83829787,\n",
       "       240849.83829787, 175254.79497908, 187024.41843972, 138821.16853933,\n",
       "       138821.16853933, 110742.85714286, 138821.16853933, 138821.16853933,\n",
       "       138821.16853933, 138821.16853933, 127148.30379747, 171953.95238095,\n",
       "       170054.44017094, 186771.49086758, 170054.44017094, 127148.30379747,\n",
       "       240849.83829787, 140851.8313253 , 187024.41843972, 171997.1965812 ,\n",
       "       171997.1965812 , 110742.85714286, 110742.85714286, 138821.16853933,\n",
       "       138821.16853933, 170054.44017094, 171997.1965812 , 187024.41843972,\n",
       "       171953.95238095, 174277.08      , 171953.95238095, 138821.16853933,\n",
       "       187024.41843972, 240849.83829787, 140851.8313253 , 240849.83829787,\n",
       "       187024.41843972, 170054.44017094, 240849.83829787, 187024.41843972,\n",
       "       138821.16853933, 187024.41843972, 240849.83829787, 187024.41843972,\n",
       "       187024.41843972, 171953.95238095, 187024.41843972, 187024.41843972,\n",
       "       171997.1965812 , 170054.44017094, 170054.44017094, 170054.44017094,\n",
       "       187024.41843972, 171997.1965812 , 187024.41843972, 127148.30379747,\n",
       "       187024.41843972, 187024.41843972, 138821.16853933, 138821.16853933,\n",
       "       240849.83829787, 138821.16853933, 187024.41843972, 240849.83829787,\n",
       "       187024.41843972, 187024.41843972, 240849.83829787, 175254.79497908,\n",
       "       187024.41843972, 170054.44017094, 240849.83829787, 171997.1965812 ,\n",
       "       103116.37931034, 170054.44017094, 240849.83829787, 240849.83829787,\n",
       "       240849.83829787, 171997.1965812 , 170054.44017094, 187024.41843972,\n",
       "       165029.59259259, 119767.39130435, 240849.83829787, 170054.44017094,\n",
       "       138821.16853933, 138821.16853933, 187024.41843972, 171997.1965812 ,\n",
       "       127148.30379747, 110742.85714286, 240849.83829787, 240849.83829787,\n",
       "       187024.41843972, 187024.41843972, 187024.41843972, 170054.44017094,\n",
       "       187024.41843972, 240849.83829787, 165029.59259259, 165029.59259259,\n",
       "       187024.41843972, 170054.44017094, 187024.41843972, 171997.1965812 ,\n",
       "       240849.83829787, 110742.85714286, 170054.44017094, 187024.41843972,\n",
       "       110742.85714286, 171997.1965812 , 187024.41843972, 138821.16853933,\n",
       "       240849.83829787, 111060.        , 240849.83829787, 138821.16853933,\n",
       "       187024.41843972, 187024.41843972, 240849.83829787, 103116.37931034,\n",
       "       187024.41843972, 240849.83829787, 175254.79497908, 187024.41843972])"
      ]
     },
     "execution_count": 43,
     "metadata": {},
     "output_type": "execute_result"
    }
   ],
   "source": [
    "rscv_boost=RandomizedSearchCV(adaboost,param_distributions=param_boost,cv=3,n_iter=12)  #Adaboost Randomized search\n",
    "rscv_boost.fit(X_train_final,y_train)\n",
    "rscv_boost.predict(X_test_final)\n",
    "                   "
   ]
  },
  {
   "cell_type": "code",
   "execution_count": 51,
   "metadata": {},
   "outputs": [
    {
     "data": {
      "text/plain": [
       "[28001.089510927282,\n",
       " 18564.549538964897,\n",
       " 11555.001409188355,\n",
       " 8959.244071649104,\n",
       " 6780.270722362854,\n",
       " 5295.577592651015,\n",
       " 4464.405140672522,\n",
       " 3645.6973161916253,\n",
       " 2899.6407328710475,\n",
       " 2207.499497529555,\n",
       " 1793.442250577745,\n",
       " 1554.0333573988664]"
      ]
     },
     "execution_count": 51,
     "metadata": {},
     "output_type": "execute_result"
    }
   ],
   "source": [
    "kmeans=KMeans()                    #K-means\n",
    "kmeans.fit(X_train_final)\n",
    "num_clusters=range(2,14)\n",
    "wss=[]\n",
    "for n in num_clusters:\n",
    "    kmeans=KMeans(n_clusters=n)\n",
    "    kmeans.fit(X_train_final)\n",
    "    wss.append(kmeans.inertia_)\n",
    "wss"
   ]
  },
  {
   "cell_type": "code",
   "execution_count": 57,
   "metadata": {},
   "outputs": [
    {
     "data": {
      "text/plain": [
       "Text(0, 0.5, 'WSS')"
      ]
     },
     "execution_count": 57,
     "metadata": {},
     "output_type": "execute_result"
    },
    {
     "data": {
      "image/png": "[encoded data removed]",
      "text/plain": [
       "<Figure size 432x288 with 1 Axes>"
      ]
     },
     "metadata": {
      "needs_background": "light"
     },
     "output_type": "display_data"
    }
   ],
   "source": [
    "#plotting elbow curve for k-nearest neighbours\n",
    "plt.plot(num_clusters,wss)  \n",
    "plt.title('ELBOW CURVE')\n",
    "plt.xlabel('number of clusters')\n",
    "plt.ylabel('WSS')"
   ]
  },
  {
   "cell_type": "code",
   "execution_count": 62,
   "metadata": {},
   "outputs": [],
   "source": [
    "#K-nearest neighbours\n",
    "kmeans_1=KMeans(n_clusters=9)\n",
    "kmeans_1.fit(X_train_final)\n",
    "kmeans_pred=kmeans.predict(X_test_final)"
   ]
  }
 ],
 "metadata": {
  "kernelspec": {
   "display_name": "Python 3",
   "language": "python",
   "name": "python3"
  },
  "language_info": {
   "codemirror_mode": {
    "name": "ipython",
    "version": 3
   },
   "file_extension": ".py",
   "mimetype": "text/x-python",
   "name": "python",
   "nbconvert_exporter": "python",
   "pygments_lexer": "ipython3",
   "version": "3.8.5"
  }
 },
 "nbformat": 4,
 "nbformat_minor": 4
}
